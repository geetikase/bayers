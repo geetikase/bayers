{
  "nbformat": 4,
  "nbformat_minor": 0,
  "metadata": {
    "colab": {
      "provenance": []
    },
    "kernelspec": {
      "name": "python3",
      "display_name": "Python 3"
    },
    "language_info": {
      "name": "python"
    }
  },
  "cells": [
    {
      "cell_type": "code",
      "execution_count": 1,
      "metadata": {
        "colab": {
          "base_uri": "https://localhost:8080/"
        },
        "id": "XlZ8cmFT1Vai",
        "outputId": "5649ed4a-c539-457f-e24d-6db2d29df7bf"
      },
      "outputs": [
        {
          "output_type": "stream",
          "name": "stdout",
          "text": [
            "1D Array:\n",
            "[0 1 2 3 4 5 6 7 8 9]\n",
            "\n",
            "2D Array:\n",
            "[[0.62407284 0.79218224 0.18258065]\n",
            " [0.55085836 0.11300347 0.81298701]\n",
            " [0.43583969 0.2194354  0.95027578]]\n"
          ]
        }
      ],
      "source": [
        "import numpy as np\n",
        "\n",
        "# Generate a 1D array of integers from 0 to 9\n",
        "array_1d = np.arange(10)\n",
        "print(\"1D Array:\")\n",
        "print(array_1d)\n",
        "\n",
        "# Generate a 2D array of random floats between 0 and 1\n",
        "array_2d = np.random.rand(3, 3)\n",
        "print(\"\\n2D Array:\")\n",
        "print(array_2d)\n"
      ]
    }
  ]
}